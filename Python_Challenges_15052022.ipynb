{
 "cells": [
  {
   "cell_type": "code",
   "execution_count": 1,
   "id": "d0db342b",
   "metadata": {},
   "outputs": [],
   "source": [
    "s='This is My First Python programming class and learning python string and its function'"
   ]
  },
  {
   "cell_type": "code",
   "execution_count": 2,
   "id": "f6f19651",
   "metadata": {},
   "outputs": [
    {
     "data": {
      "text/plain": [
       "'This is My First Python programming class and learning python string and its function'"
      ]
     },
     "execution_count": 2,
     "metadata": {},
     "output_type": "execute_result"
    }
   ],
   "source": [
    "s"
   ]
  },
  {
   "cell_type": "code",
   "execution_count": 3,
   "id": "b0db18d0",
   "metadata": {},
   "outputs": [],
   "source": [
    "#Q1.Try to extract data from index one to index 300 with a jump of 3 "
   ]
  },
  {
   "cell_type": "code",
   "execution_count": 10,
   "id": "c7e85f71",
   "metadata": {},
   "outputs": [
    {
     "data": {
      "text/plain": [
       "'h   r tnrrmglsnlrnph rgni ni'"
      ]
     },
     "execution_count": 10,
     "metadata": {},
     "output_type": "execute_result"
    }
   ],
   "source": [
    "s[1:300:3]"
   ]
  },
  {
   "cell_type": "code",
   "execution_count": 11,
   "id": "84639adf",
   "metadata": {},
   "outputs": [],
   "source": [
    "#Q2.Try to reverse a string without using reverse function "
   ]
  },
  {
   "cell_type": "code",
   "execution_count": 12,
   "id": "ed84faf7",
   "metadata": {},
   "outputs": [
    {
     "data": {
      "text/plain": [
       "'noitcnuf sti dna gnirts nohtyp gninrael dna ssalc gnimmargorp nohtyP tsriF yM si sihT'"
      ]
     },
     "execution_count": 12,
     "metadata": {},
     "output_type": "execute_result"
    }
   ],
   "source": [
    "s[::-1]"
   ]
  },
  {
   "cell_type": "code",
   "execution_count": 13,
   "id": "599289e6",
   "metadata": {},
   "outputs": [],
   "source": [
    "#Q3.Try to split a string after conversion of entire string in uppercase "
   ]
  },
  {
   "cell_type": "code",
   "execution_count": 22,
   "id": "542f4dd5",
   "metadata": {},
   "outputs": [],
   "source": [
    "s=s.upper()"
   ]
  },
  {
   "cell_type": "code",
   "execution_count": 23,
   "id": "1728f443",
   "metadata": {},
   "outputs": [
    {
     "data": {
      "text/plain": [
       "'THIS IS MY FIRST PYTHON PROGRAMMING CLASS AND LEARNING PYTHON STRING AND ITS FUNCTION'"
      ]
     },
     "execution_count": 23,
     "metadata": {},
     "output_type": "execute_result"
    }
   ],
   "source": [
    "s"
   ]
  },
  {
   "cell_type": "code",
   "execution_count": 24,
   "id": "00934f96",
   "metadata": {},
   "outputs": [
    {
     "data": {
      "text/plain": [
       "['THIS',\n",
       " 'IS',\n",
       " 'MY',\n",
       " 'FIRST',\n",
       " 'PYTHON',\n",
       " 'PROGRAMMING',\n",
       " 'CLASS',\n",
       " 'AND',\n",
       " 'LEARNING',\n",
       " 'PYTHON',\n",
       " 'STRING',\n",
       " 'AND',\n",
       " 'ITS',\n",
       " 'FUNCTION']"
      ]
     },
     "execution_count": 24,
     "metadata": {},
     "output_type": "execute_result"
    }
   ],
   "source": [
    "s.split(' ')"
   ]
  },
  {
   "cell_type": "code",
   "execution_count": 25,
   "id": "2ea28eff",
   "metadata": {},
   "outputs": [],
   "source": [
    "#Q4.Try to convert the whole string into lower case "
   ]
  },
  {
   "cell_type": "code",
   "execution_count": 27,
   "id": "3eca329b",
   "metadata": {},
   "outputs": [],
   "source": [
    "s=s.lower()"
   ]
  },
  {
   "cell_type": "code",
   "execution_count": 28,
   "id": "527a87c3",
   "metadata": {},
   "outputs": [
    {
     "data": {
      "text/plain": [
       "'this is my first python programming class and learning python string and its function'"
      ]
     },
     "execution_count": 28,
     "metadata": {},
     "output_type": "execute_result"
    }
   ],
   "source": [
    "s"
   ]
  },
  {
   "cell_type": "code",
   "execution_count": 29,
   "id": "cf47b9be",
   "metadata": {},
   "outputs": [],
   "source": [
    "#Q5.Try to capitalize the whole string "
   ]
  },
  {
   "cell_type": "code",
   "execution_count": 30,
   "id": "a910c852",
   "metadata": {},
   "outputs": [
    {
     "data": {
      "text/plain": [
       "'This is my first python programming class and learning python string and its function'"
      ]
     },
     "execution_count": 30,
     "metadata": {},
     "output_type": "execute_result"
    }
   ],
   "source": [
    "s.capitalize()"
   ]
  },
  {
   "cell_type": "code",
   "execution_count": 31,
   "id": "4780904f",
   "metadata": {},
   "outputs": [],
   "source": [
    "#Q6.Write a diference between isalnum() and isalpha()"
   ]
  },
  {
   "cell_type": "code",
   "execution_count": 36,
   "id": "d28b0892",
   "metadata": {},
   "outputs": [],
   "source": [
    "#isalnum() function returns true if the string has alphanumeric value else false"
   ]
  },
  {
   "cell_type": "code",
   "execution_count": 37,
   "id": "03a34417",
   "metadata": {},
   "outputs": [],
   "source": [
    "#isalpha() function returns true if the string has alphabets else false"
   ]
  },
  {
   "cell_type": "code",
   "execution_count": 38,
   "id": "e8b5ecd5",
   "metadata": {},
   "outputs": [],
   "source": [
    "#Q7.Try to give an example of expand tab"
   ]
  },
  {
   "cell_type": "code",
   "execution_count": 55,
   "id": "4b118bea",
   "metadata": {},
   "outputs": [],
   "source": [
    "H='\\t'"
   ]
  },
  {
   "cell_type": "code",
   "execution_count": 56,
   "id": "bb4f6b01",
   "metadata": {},
   "outputs": [
    {
     "data": {
      "text/plain": [
       "'\\t'"
      ]
     },
     "execution_count": 56,
     "metadata": {},
     "output_type": "execute_result"
    }
   ],
   "source": [
    "H"
   ]
  },
  {
   "cell_type": "code",
   "execution_count": 57,
   "id": "9db1fba0",
   "metadata": {},
   "outputs": [
    {
     "data": {
      "text/plain": [
       "'        '"
      ]
     },
     "execution_count": 57,
     "metadata": {},
     "output_type": "execute_result"
    }
   ],
   "source": [
    "H.expandtabs()"
   ]
  },
  {
   "cell_type": "code",
   "execution_count": 59,
   "id": "79221173",
   "metadata": {},
   "outputs": [
    {
     "data": {
      "text/plain": [
       "8"
      ]
     },
     "execution_count": 59,
     "metadata": {},
     "output_type": "execute_result"
    }
   ],
   "source": [
    "len(H.expandtabs())"
   ]
  },
  {
   "cell_type": "code",
   "execution_count": 60,
   "id": "c5ab21e8",
   "metadata": {},
   "outputs": [],
   "source": [
    "#Q8.Give an example of strip , lstrip and rstrip "
   ]
  },
  {
   "cell_type": "code",
   "execution_count": 61,
   "id": "632fdf37",
   "metadata": {},
   "outputs": [],
   "source": [
    "G='  Check  '"
   ]
  },
  {
   "cell_type": "code",
   "execution_count": 62,
   "id": "574d9200",
   "metadata": {},
   "outputs": [
    {
     "data": {
      "text/plain": [
       "'Check'"
      ]
     },
     "execution_count": 62,
     "metadata": {},
     "output_type": "execute_result"
    }
   ],
   "source": [
    "G.strip()"
   ]
  },
  {
   "cell_type": "code",
   "execution_count": 63,
   "id": "54f685be",
   "metadata": {},
   "outputs": [
    {
     "data": {
      "text/plain": [
       "'  Check'"
      ]
     },
     "execution_count": 63,
     "metadata": {},
     "output_type": "execute_result"
    }
   ],
   "source": [
    "G.rstrip()"
   ]
  },
  {
   "cell_type": "code",
   "execution_count": 64,
   "id": "c937c108",
   "metadata": {},
   "outputs": [
    {
     "data": {
      "text/plain": [
       "'Check  '"
      ]
     },
     "execution_count": 64,
     "metadata": {},
     "output_type": "execute_result"
    }
   ],
   "source": [
    "G.lstrip()"
   ]
  },
  {
   "cell_type": "code",
   "execution_count": 65,
   "id": "d6cbd207",
   "metadata": {},
   "outputs": [],
   "source": [
    "#Q9.Replace a string charecter by another charector by taking your own example "
   ]
  },
  {
   "cell_type": "code",
   "execution_count": 67,
   "id": "224928cf",
   "metadata": {},
   "outputs": [
    {
     "data": {
      "text/plain": [
       "'  Aheck  '"
      ]
     },
     "execution_count": 67,
     "metadata": {},
     "output_type": "execute_result"
    }
   ],
   "source": [
    "G.replace('C','A')"
   ]
  },
  {
   "cell_type": "code",
   "execution_count": 68,
   "id": "2c6efbce",
   "metadata": {},
   "outputs": [],
   "source": [
    "#Q10.Try  to give a defination of string center function with and exmple "
   ]
  },
  {
   "cell_type": "code",
   "execution_count": 69,
   "id": "5b1101b8",
   "metadata": {},
   "outputs": [],
   "source": [
    "Y='Hariz'"
   ]
  },
  {
   "cell_type": "code",
   "execution_count": 72,
   "id": "668a63b7",
   "metadata": {},
   "outputs": [
    {
     "data": {
      "text/plain": [
       "'#######Hariz########'"
      ]
     },
     "execution_count": 72,
     "metadata": {},
     "output_type": "execute_result"
    }
   ],
   "source": [
    "Y.center(20,'#')"
   ]
  },
  {
   "cell_type": "code",
   "execution_count": 73,
   "id": "3cceab90",
   "metadata": {},
   "outputs": [],
   "source": [
    "# Centre() function will place the value in the centre of the string based on the width value provided \n",
    "# and replace the space with the character provided"
   ]
  },
  {
   "cell_type": "code",
   "execution_count": 74,
   "id": "221a408e",
   "metadata": {},
   "outputs": [],
   "source": [
    "#Q11.Write your own definition of compiler and interpretor without copy paste form internet in your own language"
   ]
  },
  {
   "cell_type": "code",
   "execution_count": 75,
   "id": "dc44acfc",
   "metadata": {},
   "outputs": [],
   "source": [
    "#Compiler converts the input/code provided by human into the code understand by the computer."
   ]
  },
  {
   "cell_type": "code",
   "execution_count": null,
   "id": "48c9faa3",
   "metadata": {},
   "outputs": [],
   "source": [
    "#Interpreter will perform the same operation like compiler but one statement at a time whereas compiler will do it in a whole"
   ]
  },
  {
   "cell_type": "code",
   "execution_count": 76,
   "id": "17c01d98",
   "metadata": {},
   "outputs": [],
   "source": [
    "#Q12.Python is a interpreted of compiled language give a clear ans with your understanding "
   ]
  },
  {
   "cell_type": "code",
   "execution_count": 77,
   "id": "f5f23cf1",
   "metadata": {},
   "outputs": [],
   "source": [
    "# Python does not have compiler and the software present in python reads the code and give instruction to the machine"
   ]
  },
  {
   "cell_type": "code",
   "execution_count": 78,
   "id": "22b0f14f",
   "metadata": {},
   "outputs": [],
   "source": [
    "#Q13.Try to write a usecase of python with your understanding ."
   ]
  },
  {
   "cell_type": "code",
   "execution_count": 79,
   "id": "594135aa",
   "metadata": {},
   "outputs": [],
   "source": [
    "# Python is used in most of the fields in real time. right from web applications, AI,\n",
    "# Datascience, software and game development.etc., It is open source and is a very easy language"
   ]
  },
  {
   "cell_type": "code",
   "execution_count": null,
   "id": "f2a2bbab",
   "metadata": {},
   "outputs": [],
   "source": []
  }
 ],
 "metadata": {
  "kernelspec": {
   "display_name": "Python 3 (ipykernel)",
   "language": "python",
   "name": "python3"
  },
  "language_info": {
   "codemirror_mode": {
    "name": "ipython",
    "version": 3
   },
   "file_extension": ".py",
   "mimetype": "text/x-python",
   "name": "python",
   "nbconvert_exporter": "python",
   "pygments_lexer": "ipython3",
   "version": "3.9.7"
  }
 },
 "nbformat": 4,
 "nbformat_minor": 5
}
